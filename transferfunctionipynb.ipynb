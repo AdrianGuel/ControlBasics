{
  "nbformat": 4,
  "nbformat_minor": 0,
  "metadata": {
    "colab": {
      "name": "transferfunctionipynb",
      "provenance": [],
      "toc_visible": true,
      "authorship_tag": "ABX9TyM7x2josFBEWnT9C7RKeRaL",
      "include_colab_link": true
    },
    "kernelspec": {
      "name": "python3",
      "display_name": "Python 3"
    }
  },
  "cells": [
    {
      "cell_type": "markdown",
      "metadata": {
        "id": "view-in-github",
        "colab_type": "text"
      },
      "source": [
        "<a href=\"https://colab.research.google.com/github/AdrianGuel/ControlBasics/blob/main/transferfunctionipynb.ipynb\" target=\"_parent\"><img src=\"https://colab.research.google.com/assets/colab-badge.svg\" alt=\"Open In Colab\"/></a>"
      ]
    },
    {
      "cell_type": "code",
      "metadata": {
        "id": "QIiiAk6hKLNy",
        "colab": {
          "base_uri": "https://localhost:8080/",
          "height": 265
        },
        "outputId": "a15ac5c9-774c-4501-b4a2-048123e66595"
      },
      "source": [
        "from control.matlab import *\n",
        "import matplotlib.pyplot as plt\n",
        "num=[1,2]\n",
        "den=[1,1,3]\n",
        "sys = TransferFunction(num, den)\n",
        "\n",
        "y,t = step(sys)\n",
        "plt.plot(t,y)\n",
        "plt.show()"
      ],
      "execution_count": null,
      "outputs": [
        {
          "output_type": "display_data",
          "data": {
            "image/png": "[encoded data removed]",
            "text/plain": [
              "<Figure size 432x288 with 1 Axes>"
            ]
          },
          "metadata": {
            "tags": [],
            "needs_background": "light"
          }
        }
      ]
    },
    {
      "cell_type": "code",
      "metadata": {
        "id": "FX-9nBZJ6SIa",
        "colab": {
          "base_uri": "https://localhost:8080/",
          "height": 280
        },
        "outputId": "a6f91549-2596-4deb-cd4c-dee7dae12ff4"
      },
      "source": [
        "!pip install slycot"
      ],
      "execution_count": null,
      "outputs": [
        {
          "output_type": "stream",
          "text": [
            "Collecting slycot\n",
            "\u001b[?25l  Downloading https://files.pythonhosted.org/packages/85/21/4e7110462f3529b2fbcff8a519b61bf64e0604b8fcbe9a07649c9bed9d7a/slycot-0.4.0.0.tar.gz (1.5MB)\n",
            "\u001b[K     |████████████████████████████████| 1.6MB 3.5MB/s \n",
            "\u001b[?25h  Installing build dependencies ... \u001b[?25l\u001b[?25hdone\n",
            "  Getting requirements to build wheel ... \u001b[?25l\u001b[?25hdone\n",
            "    Preparing wheel metadata ... \u001b[?25l\u001b[?25hdone\n",
            "Requirement already satisfied: numpy in /usr/local/lib/python3.6/dist-packages (from slycot) (1.18.5)\n",
            "Building wheels for collected packages: slycot\n",
            "  Building wheel for slycot (PEP 517) ... \u001b[?25l\u001b[?25hdone\n",
            "  Created wheel for slycot: filename=slycot-0.4.0-cp36-cp36m-linux_x86_64.whl size=1413145 sha256=e38fb33626dbc91087665ae9bfffbf4bf9939139926cdeffb3da4eae4a0a90b6\n",
            "  Stored in directory: /root/.cache/pip/wheels/a2/46/56/f82cbb2fd06556f4f3952a2eb2396e8fd29264fffecbaad3cf\n",
            "Successfully built slycot\n",
            "Installing collected packages: slycot\n",
            "Successfully installed slycot-0.4.0\n"
          ],
          "name": "stdout"
        }
      ]
    },
    {
      "cell_type": "code",
      "metadata": {
        "id": "pjhV91m9DT6c",
        "colab": {
          "base_uri": "https://localhost:8080/",
          "height": 34
        },
        "outputId": "445fa311-846a-4605-a459-832a0d985fa7"
      },
      "source": [
        "a=[1,'palabras',[1,2,3,4]]\n",
        "print(a)"
      ],
      "execution_count": null,
      "outputs": [
        {
          "output_type": "stream",
          "text": [
            "[1, 'palabras', [1, 2, 3, 4]]\n"
          ],
          "name": "stdout"
        }
      ]
    },
    {
      "cell_type": "code",
      "metadata": {
        "id": "7A9GKdSWDasi"
      },
      "source": [],
      "execution_count": null,
      "outputs": []
    }
  ]
}